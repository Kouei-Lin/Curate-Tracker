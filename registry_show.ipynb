{
 "cells": [
  {
   "cell_type": "code",
   "execution_count": 3,
   "metadata": {},
   "outputs": [],
   "source": [
    "import pandas as pd\n",
    "import numpy as np\n",
    "import seaborn as sns\n",
    "import matplotlib.pyplot as plt"
   ]
  },
  {
   "cell_type": "code",
   "execution_count": 4,
   "metadata": {
    "scrolled": true
   },
   "outputs": [
    {
     "data": {
      "text/html": [
       "<div>\n",
       "<style scoped>\n",
       "    .dataframe tbody tr th:only-of-type {\n",
       "        vertical-align: middle;\n",
       "    }\n",
       "\n",
       "    .dataframe tbody tr th {\n",
       "        vertical-align: top;\n",
       "    }\n",
       "\n",
       "    .dataframe thead th {\n",
       "        text-align: right;\n",
       "    }\n",
       "</style>\n",
       "<table border=\"1\" class=\"dataframe\">\n",
       "  <thead>\n",
       "    <tr style=\"text-align: right;\">\n",
       "      <th></th>\n",
       "      <th>id</th>\n",
       "      <th>registry</th>\n",
       "      <th>chain</th>\n",
       "      <th>latestRequestResolutionTime</th>\n",
       "      <th>submitter</th>\n",
       "      <th>tagAddress</th>\n",
       "    </tr>\n",
       "  </thead>\n",
       "  <tbody>\n",
       "    <tr>\n",
       "      <th>0</th>\n",
       "      <td>0x02d90cb7add0898ea4fe01334c422668b40f59988c1c...</td>\n",
       "      <td>addressTags</td>\n",
       "      <td>56</td>\n",
       "      <td>1697253985</td>\n",
       "      <td>NaN</td>\n",
       "      <td>0x3a6d8cA21D1CF76F653A67577FA0D27453350dD8</td>\n",
       "    </tr>\n",
       "    <tr>\n",
       "      <th>1</th>\n",
       "      <td>0x09a8648759622b16a927f5b9ccbaf011ed7e471018c9...</td>\n",
       "      <td>addressTags</td>\n",
       "      <td>100</td>\n",
       "      <td>1697678795</td>\n",
       "      <td>NaN</td>\n",
       "      <td>0x9008D19f58AAbD9eD0D60971565AA8510560ab41</td>\n",
       "    </tr>\n",
       "    <tr>\n",
       "      <th>2</th>\n",
       "      <td>0x0f5425b7c947767d4e002699e8a3b9031bfa4f1acbca...</td>\n",
       "      <td>addressTags</td>\n",
       "      <td>137</td>\n",
       "      <td>1697678915</td>\n",
       "      <td>NaN</td>\n",
       "      <td>0xC36442b4a4522E871399CD717aBDD847Ab11FE88</td>\n",
       "    </tr>\n",
       "    <tr>\n",
       "      <th>3</th>\n",
       "      <td>0x10ebc1f02666661eee5a1d7d688e48a51f32a287688a...</td>\n",
       "      <td>addressTags</td>\n",
       "      <td>56</td>\n",
       "      <td>1697325990</td>\n",
       "      <td>NaN</td>\n",
       "      <td>0x0000000000000000000000000000000000001002</td>\n",
       "    </tr>\n",
       "    <tr>\n",
       "      <th>4</th>\n",
       "      <td>0x11f6a324d33778b4c0f678826a00c6d8498a4f5f9d7c...</td>\n",
       "      <td>addressTags</td>\n",
       "      <td>1</td>\n",
       "      <td>1697481020</td>\n",
       "      <td>NaN</td>\n",
       "      <td>0x1231DEB6f5749EF6cE6943a275A1D3E7486F4EaE</td>\n",
       "    </tr>\n",
       "  </tbody>\n",
       "</table>\n",
       "</div>"
      ],
      "text/plain": [
       "                                                  id     registry  chain  \\\n",
       "0  0x02d90cb7add0898ea4fe01334c422668b40f59988c1c...  addressTags     56   \n",
       "1  0x09a8648759622b16a927f5b9ccbaf011ed7e471018c9...  addressTags    100   \n",
       "2  0x0f5425b7c947767d4e002699e8a3b9031bfa4f1acbca...  addressTags    137   \n",
       "3  0x10ebc1f02666661eee5a1d7d688e48a51f32a287688a...  addressTags     56   \n",
       "4  0x11f6a324d33778b4c0f678826a00c6d8498a4f5f9d7c...  addressTags      1   \n",
       "\n",
       "   latestRequestResolutionTime  submitter  \\\n",
       "0                   1697253985        NaN   \n",
       "1                   1697678795        NaN   \n",
       "2                   1697678915        NaN   \n",
       "3                   1697325990        NaN   \n",
       "4                   1697481020        NaN   \n",
       "\n",
       "                                   tagAddress  \n",
       "0  0x3a6d8cA21D1CF76F653A67577FA0D27453350dD8  \n",
       "1  0x9008D19f58AAbD9eD0D60971565AA8510560ab41  \n",
       "2  0xC36442b4a4522E871399CD717aBDD847Ab11FE88  \n",
       "3  0x0000000000000000000000000000000000001002  \n",
       "4  0x1231DEB6f5749EF6cE6943a275A1D3E7486F4EaE  "
      ]
     },
     "execution_count": 4,
     "metadata": {},
     "output_type": "execute_result"
    }
   ],
   "source": [
    "df = pd.read_csv('fetch_registry.csv')\n",
    "df.head()"
   ]
  },
  {
   "cell_type": "code",
   "execution_count": 5,
   "metadata": {},
   "outputs": [
    {
     "data": {
      "text/html": [
       "<div>\n",
       "<style scoped>\n",
       "    .dataframe tbody tr th:only-of-type {\n",
       "        vertical-align: middle;\n",
       "    }\n",
       "\n",
       "    .dataframe tbody tr th {\n",
       "        vertical-align: top;\n",
       "    }\n",
       "\n",
       "    .dataframe thead th {\n",
       "        text-align: right;\n",
       "    }\n",
       "</style>\n",
       "<table border=\"1\" class=\"dataframe\">\n",
       "  <thead>\n",
       "    <tr style=\"text-align: right;\">\n",
       "      <th></th>\n",
       "      <th>registry</th>\n",
       "      <th>chain</th>\n",
       "      <th>tagAddress</th>\n",
       "    </tr>\n",
       "  </thead>\n",
       "  <tbody>\n",
       "    <tr>\n",
       "      <th>0</th>\n",
       "      <td>addressTags</td>\n",
       "      <td>56</td>\n",
       "      <td>0x3a6d8cA21D1CF76F653A67577FA0D27453350dD8</td>\n",
       "    </tr>\n",
       "    <tr>\n",
       "      <th>1</th>\n",
       "      <td>addressTags</td>\n",
       "      <td>100</td>\n",
       "      <td>0x9008D19f58AAbD9eD0D60971565AA8510560ab41</td>\n",
       "    </tr>\n",
       "    <tr>\n",
       "      <th>2</th>\n",
       "      <td>addressTags</td>\n",
       "      <td>137</td>\n",
       "      <td>0xC36442b4a4522E871399CD717aBDD847Ab11FE88</td>\n",
       "    </tr>\n",
       "    <tr>\n",
       "      <th>3</th>\n",
       "      <td>addressTags</td>\n",
       "      <td>56</td>\n",
       "      <td>0x0000000000000000000000000000000000001002</td>\n",
       "    </tr>\n",
       "    <tr>\n",
       "      <th>4</th>\n",
       "      <td>addressTags</td>\n",
       "      <td>1</td>\n",
       "      <td>0x1231DEB6f5749EF6cE6943a275A1D3E7486F4EaE</td>\n",
       "    </tr>\n",
       "  </tbody>\n",
       "</table>\n",
       "</div>"
      ],
      "text/plain": [
       "      registry  chain                                  tagAddress\n",
       "0  addressTags     56  0x3a6d8cA21D1CF76F653A67577FA0D27453350dD8\n",
       "1  addressTags    100  0x9008D19f58AAbD9eD0D60971565AA8510560ab41\n",
       "2  addressTags    137  0xC36442b4a4522E871399CD717aBDD847Ab11FE88\n",
       "3  addressTags     56  0x0000000000000000000000000000000000001002\n",
       "4  addressTags      1  0x1231DEB6f5749EF6cE6943a275A1D3E7486F4EaE"
      ]
     },
     "execution_count": 5,
     "metadata": {},
     "output_type": "execute_result"
    }
   ],
   "source": [
    "#select target data\n",
    "df = df[['registry','chain','tagAddress']]\n",
    "df.head()"
   ]
  },
  {
   "cell_type": "code",
   "execution_count": 6,
   "metadata": {
    "scrolled": true
   },
   "outputs": [
    {
     "name": "stdout",
     "output_type": "stream",
     "text": [
      "<class 'pandas.core.frame.DataFrame'>\n",
      "RangeIndex: 166 entries, 0 to 165\n",
      "Data columns (total 3 columns):\n",
      " #   Column      Non-Null Count  Dtype \n",
      "---  ------      --------------  ----- \n",
      " 0   registry    166 non-null    object\n",
      " 1   chain       166 non-null    int64 \n",
      " 2   tagAddress  166 non-null    object\n",
      "dtypes: int64(1), object(2)\n",
      "memory usage: 4.0+ KB\n"
     ]
    }
   ],
   "source": [
    "#check info\n",
    "df.info()"
   ]
  },
  {
   "cell_type": "code",
   "execution_count": 4,
   "metadata": {},
   "outputs": [
    {
     "data": {
      "text/plain": [
       "registry\n",
       "domains        69\n",
       "addressTags    53\n",
       "tokens         44\n",
       "Name: count, dtype: int64"
      ]
     },
     "execution_count": 4,
     "metadata": {},
     "output_type": "execute_result"
    }
   ],
   "source": [
    "df['registry'].value_counts()"
   ]
  },
  {
   "cell_type": "code",
   "execution_count": 6,
   "metadata": {},
   "outputs": [
    {
     "data": {
      "text/plain": [
       "chain\n",
       "1      38\n",
       "56     37\n",
       "100    36\n",
       "137    34\n",
       "Name: count, dtype: int64"
      ]
     },
     "execution_count": 6,
     "metadata": {},
     "output_type": "execute_result"
    }
   ],
   "source": [
    "df['chain'].value_counts()"
   ]
  },
  {
   "cell_type": "code",
   "execution_count": 7,
   "metadata": {},
   "outputs": [
    {
     "name": "stdout",
     "output_type": "stream",
     "text": [
      "Empty DataFrame\n",
      "Columns: [registry, chain, tagAddress]\n",
      "Index: []\n"
     ]
    }
   ],
   "source": [
    "# Find rows with missing values in the \"chain\" column\n",
    "missing_chain_rows = df[df['chain'].isna()]\n",
    "\n",
    "# Display the rows with missing values in the \"chain\" column\n",
    "print(missing_chain_rows)"
   ]
  },
  {
   "cell_type": "code",
   "execution_count": 5,
   "metadata": {},
   "outputs": [],
   "source": [
    "#map chainID\n",
    "conditions = [\n",
    "    (df['chain'] == 1.0),\n",
    "    (df['chain'] == 56.0),\n",
    "    (df['chain'] == 137.0),\n",
    "    (df['chain'] == 100.0)\n",
    "]\n",
    "\n",
    "choices = ['ethereum', 'bsc', 'polygon', 'gnosis']\n",
    "\n",
    "df['blockchain'] = np.select(conditions, choices, default=None)\n"
   ]
  },
  {
   "cell_type": "code",
   "execution_count": 6,
   "metadata": {},
   "outputs": [
    {
     "data": {
      "text/html": [
       "<div>\n",
       "<style scoped>\n",
       "    .dataframe tbody tr th:only-of-type {\n",
       "        vertical-align: middle;\n",
       "    }\n",
       "\n",
       "    .dataframe tbody tr th {\n",
       "        vertical-align: top;\n",
       "    }\n",
       "\n",
       "    .dataframe thead th {\n",
       "        text-align: right;\n",
       "    }\n",
       "</style>\n",
       "<table border=\"1\" class=\"dataframe\">\n",
       "  <thead>\n",
       "    <tr style=\"text-align: right;\">\n",
       "      <th>blockchain</th>\n",
       "      <th>bsc</th>\n",
       "      <th>ethereum</th>\n",
       "      <th>gnosis</th>\n",
       "      <th>polygon</th>\n",
       "      <th>All</th>\n",
       "    </tr>\n",
       "    <tr>\n",
       "      <th>registry</th>\n",
       "      <th></th>\n",
       "      <th></th>\n",
       "      <th></th>\n",
       "      <th></th>\n",
       "      <th></th>\n",
       "    </tr>\n",
       "  </thead>\n",
       "  <tbody>\n",
       "    <tr>\n",
       "      <th>addressTags</th>\n",
       "      <td>17</td>\n",
       "      <td>10</td>\n",
       "      <td>12</td>\n",
       "      <td>14</td>\n",
       "      <td>53</td>\n",
       "    </tr>\n",
       "    <tr>\n",
       "      <th>domains</th>\n",
       "      <td>14</td>\n",
       "      <td>19</td>\n",
       "      <td>18</td>\n",
       "      <td>18</td>\n",
       "      <td>69</td>\n",
       "    </tr>\n",
       "    <tr>\n",
       "      <th>tokens</th>\n",
       "      <td>8</td>\n",
       "      <td>11</td>\n",
       "      <td>17</td>\n",
       "      <td>8</td>\n",
       "      <td>44</td>\n",
       "    </tr>\n",
       "    <tr>\n",
       "      <th>All</th>\n",
       "      <td>39</td>\n",
       "      <td>40</td>\n",
       "      <td>47</td>\n",
       "      <td>40</td>\n",
       "      <td>166</td>\n",
       "    </tr>\n",
       "  </tbody>\n",
       "</table>\n",
       "</div>"
      ],
      "text/plain": [
       "blockchain   bsc  ethereum  gnosis  polygon  All\n",
       "registry                                        \n",
       "addressTags   17        10      12       14   53\n",
       "domains       14        19      18       18   69\n",
       "tokens         8        11      17        8   44\n",
       "All           39        40      47       40  166"
      ]
     },
     "execution_count": 6,
     "metadata": {},
     "output_type": "execute_result"
    }
   ],
   "source": [
    "#Show pivot table\n",
    "pivot_table = df.pivot_table(index='registry', columns='blockchain', values='tagAddress', aggfunc='count', fill_value=0, margins=True)\n",
    "pivot_table"
   ]
  }
 ],
 "metadata": {
  "kernelspec": {
   "display_name": "Python 3 (ipykernel)",
   "language": "python",
   "name": "python3"
  },
  "language_info": {
   "codemirror_mode": {
    "name": "ipython",
    "version": 3
   },
   "file_extension": ".py",
   "mimetype": "text/x-python",
   "name": "python",
   "nbconvert_exporter": "python",
   "pygments_lexer": "ipython3",
   "version": "3.11.5"
  }
 },
 "nbformat": 4,
 "nbformat_minor": 4
}
